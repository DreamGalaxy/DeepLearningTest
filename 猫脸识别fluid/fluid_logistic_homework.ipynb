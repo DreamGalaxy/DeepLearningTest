{
 "cells": [
  {
   "cell_type": "markdown",
   "metadata": {},
   "source": [
    "# Paddlepaddle实现逻辑回归 - 识别猫\n",
    "\n",
    "欢迎大家来到这个有趣的实验！在这个实验中，大家将学使用PaddlePaddle实现Logistic回归模型来解决识别猫的问题，一步步跟随内容完成训练，加深对逻辑回归理论内容的理解并串联各个知识点，收获对神经网络和深度学习概念的整体把握。 \n",
    "\n",
    "** 你将学会 **\n",
    "\n",
    "- 预处理图片数据\n",
    "\n",
    "- 利用PaddlePaddle框架实现Logistic回归模型：\n",
    "\n",
    "在开始实验之前，让我们简单介绍一下图片处理的相关知识：\n",
    "\n",
    "** 图片处理 **\n",
    "\n",
    "由于识别猫问题涉及到图片处理指示，这里对计算机如何保存图片做一个简单的介绍。在计算机中，图片被存储为三个独立的矩阵，分别对应图3-6中的红、绿、蓝三个颜色通道，如果图片是64\\*64像素的，就会有三个64\\*64大小的矩阵，要把这些像素值放进一个特征向量中，需要定义一个特征向量X，将三个颜色通道中的所有像素值都列出来。如果图片是64\\*64大小的，那么特征向量X的总纬度就是64\\*64\\*3，也就是12288维。这样一个12288维矩阵就是Logistic回归模型的一个训练数据。\n",
    "\n",
    "<img src=\"images/image_to_vector.png\" style=\"width:550px;height:300px;\">\n",
    "\n",
    "现在，让我们正式进入实验吧！\n",
    "\n",
    "## 1 - 引用库\n",
    "\n",
    "首先，载入几个需要用到的库，它们分别是：\n",
    "\n",
    "- numpy：一个python的基本库，用于科学计算\n",
    "- matplotlib.pyplot：用于生成图，在验证模型准确率和展示成本变化趋势时会使用到\n",
    "- lr_utils：定义了load_datase()方法用于载入数据\n",
    "- paddle.fluid：paddle深度学习框架"
   ]
  },
  {
   "cell_type": "code",
   "execution_count": 1,
   "metadata": {},
   "outputs": [
    {
     "name": "stderr",
     "output_type": "stream",
     "text": [
      "/home/tink/anaconda2/lib/python2.7/site-packages/h5py/__init__.py:34: FutureWarning: Conversion of the second argument of issubdtype from `float` to `np.floating` is deprecated. In future, it will be treated as `np.float64 == np.dtype(float).type`.\n",
      "  from ._conv import register_converters as _register_converters\n"
     ]
    }
   ],
   "source": [
    "import sys\n",
    "import numpy as np\n",
    "\n",
    "import lr_utils\n",
    "import matplotlib.pyplot as plt\n",
    "\n",
    "import paddle\n",
    "import paddle.fluid as fluid\n",
    "\n",
    "%matplotlib inline"
   ]
  },
  {
   "cell_type": "markdown",
   "metadata": {},
   "source": [
    "## 2 - 数据预处理\n",
    "\n",
    "这里简单介绍数据集及其结构。数据集以hdf5文件的形式存储，包含了如下内容：\n",
    "\n",
    "- 训练数据集：包含了m_train个图片的数据集，数据的标签（Label）分为cat（y=1）和non-cat（y=0）两类。\n",
    "- 测试数据集：包含了m_test个图片的数据集，数据的标签（Label）同上。\n",
    "\n",
    "单个图片数据的存储形式为（num_x, num_x, 3），其中num_x表示图片的长或宽（数据集图片的长和宽相同），数字3表示图片的三通道（RGB）。\n",
    "在代码中使用一行代码来读取数据，读者暂不需要了解数据的读取过程，只需调用load_dataset()方法，并存储五个返回值，以便后续的使用。\n",
    "    \n",
    "需要注意的是，添加“_orig”后缀表示该数据为原始数据，因为之后还需要对数据进行进一步处理。未添加“_orig”的数据则表示之后不对该数据作进一步处理。"
   ]
  },
  {
   "cell_type": "code",
   "execution_count": 2,
   "metadata": {
    "collapsed": true
   },
   "outputs": [],
   "source": [
    "train_set_x_orig, train_set_y, test_set_x_orig, test_set_y, classes = lr_utils.load_dataset()"
   ]
  },
  {
   "cell_type": "code",
   "execution_count": 3,
   "metadata": {},
   "outputs": [
    {
     "name": "stdout",
     "output_type": "stream",
     "text": [
      "y = [0], it's a 'non-cat' picture.\n"
     ]
    },
    {
     "data": {
      "image/png": "[encoded data removed]",
      "text/plain": [
       "<matplotlib.figure.Figure at 0x7f58b7206e90>"
      ]
     },
     "metadata": {},
     "output_type": "display_data"
    }
   ],
   "source": [
    "# 图片示例\n",
    "index = 23\n",
    "plt.imshow(train_set_x_orig[index])\n",
    "print (\"y = \" + str(train_set_y[:, index]) + \", it's a '\" + classes[np.squeeze(train_set_y[:, index])].decode(\"utf-8\") +  \"' picture.\")"
   ]
  },
  {
   "cell_type": "markdown",
   "metadata": {},
   "source": [
    "获取数据后的下一步工作是获得数据的相关信息，如训练样本个数m_train、测试样本个数m_test和图片的长度或宽度num_x，使用numpy.array.shape来获取数据的相关信息。\n"
   ]
  },
  {
   "cell_type": "markdown",
   "metadata": {},
   "source": [
    "** 练习: ** 查看样本信息:\n",
    "    - m_train (训练样本数)\n",
    "    - m_test (测试样本数)\n",
    "    - num_px （图片长或宽）\n",
    "`train_set_x_orig` 是一个(m_train, num_px, num_px, 3)形状的numpy数组。举个例子，你可以使用`train_set_x_orig.shape[0]`来获得 `m_train`。"
   ]
  },
  {
   "cell_type": "code",
   "execution_count": 4,
   "metadata": {},
   "outputs": [
    {
     "name": "stdout",
     "output_type": "stream",
     "text": [
      "训练样本数: m_train = 209\n",
      "测试样本数: m_test = 50\n",
      "图片高度/宽度: num_px = 64\n",
      "图片大小: (64, 64, 3)\n",
      "train_set_x shape: (209, 64, 64, 3)\n",
      "train_set_y shape: (1, 209)\n",
      "test_set_x shape: (50, 64, 64, 3)\n",
      "test_set_y shape: (1, 50)\n"
     ]
    }
   ],
   "source": [
    "### START CODE HERE ### (≈ 3 lines of code)\n",
    "m_train = #####\n",
    "m_test = ####\n",
    "num_px = ####\n",
    "### END CODE HERE ###\n",
    "\n",
    "print (\"训练样本数: m_train = \" + str(m_train))\n",
    "print (\"测试样本数: m_test = \" + str(m_test))\n",
    "print (\"图片高度/宽度: num_px = \" + str(num_px))\n",
    "print (\"图片大小: (\" + str(num_px) + \", \" + str(num_px) + \", 3)\")\n",
    "print (\"train_set_x shape: \" + str(train_set_x_orig.shape))\n",
    "print (\"train_set_y shape: \" + str(train_set_y.shape))\n",
    "print (\"test_set_x shape: \" + str(test_set_x_orig.shape))\n",
    "print (\"test_set_y shape: \" + str(test_set_y.shape))"
   ]
  },
  {
   "cell_type": "markdown",
   "metadata": {},
   "source": [
    "**期望输出：**: \n",
    "<table style=\"width:15%\">\n",
    "  <tr>\n",
    "    <td>**m_train**</td>\n",
    "    <td> 209 </td> \n",
    "  </tr>\n",
    "  \n",
    "  <tr>\n",
    "    <td>**m_test**</td>\n",
    "    <td> 50 </td> \n",
    "  </tr>\n",
    "  \n",
    "  <tr>\n",
    "    <td>**num_px**</td>\n",
    "    <td> 64 </td> \n",
    "  </tr>\n",
    "  \n",
    "</table>\n",
    "\n"
   ]
  },
  {
   "cell_type": "markdown",
   "metadata": {},
   "source": [
    "接下来需要对数据作进一步处理，为了便于训练，你可以忽略图片的结构信息，将包含图像长、宽和通道数信息的三维数组压缩成一维数组，图片数据的形状将由(64, 64, 3)转化为(64 * 64 * 3, 1)。\n",
    "\n",
    "** 练习：** \n",
    "\n",
    "将数据形状由(64, 64, 3)转化为(64 * 64 * 3, 1)。\n",
    "\n",
    "** 技巧：**\n",
    "\n",
    "我们可以使用一个小技巧来将(a,b,c,d)形状的矩阵转化为(b$*$c$*$d, a)形状的矩阵: \n",
    "\n",
    "```python\n",
    "X_flatten = X.reshape(X.shape[0], -1)\n",
    "```\n"
   ]
  },
  {
   "cell_type": "code",
   "execution_count": 5,
   "metadata": {},
   "outputs": [
    {
     "name": "stdout",
     "output_type": "stream",
     "text": [
      "train_set_x_flatten shape: (209, 12288)\n",
      "train_set_y shape: (1, 209)\n",
      "test_set_x_flatten shape: (50, 12288)\n",
      "test_set_y shape: (1, 50)\n"
     ]
    }
   ],
   "source": [
    "# 定义维度\n",
    "DATA_DIM = num_px * num_px * 3\n",
    "\n",
    "# 转换数据形状\n",
    "\n",
    "### START CODE HERE ### (≈ 2 lines of code)\n",
    "train_set_x_flatten = #####\n",
    "test_set_x_flatten = ####\n",
    "### END CODE HERE ###\n",
    "\n",
    "print (\"train_set_x_flatten shape: \" + str(train_set_x_flatten.shape))\n",
    "print (\"train_set_y shape: \" + str(train_set_y.shape))\n",
    "print (\"test_set_x_flatten shape: \" + str(test_set_x_flatten.shape))\n",
    "print (\"test_set_y shape: \" + str(test_set_y.shape))"
   ]
  },
  {
   "cell_type": "markdown",
   "metadata": {},
   "source": [
    "**期望输出**: \n",
    "\n",
    "<table style=\"width:35%\">\n",
    "  <tr>\n",
    "    <td>**train_set_x_flatten shape**</td>\n",
    "    <td> (209, 12288)</td> \n",
    "  </tr>\n",
    "  <tr>\n",
    "    <td>**train_set_y shape**</td>\n",
    "    <td>(1, 209)</td> \n",
    "  </tr>\n",
    "  <tr>\n",
    "    <td>**test_set_x_flatten shape**</td>\n",
    "    <td>(50, 12288)</td> \n",
    "  </tr>\n",
    "  <tr>\n",
    "    <td>**test_set_y shape**</td>\n",
    "    <td>(1, 50)</td> \n",
    "  </tr>\n",
    "</table>"
   ]
  },
  {
   "cell_type": "markdown",
   "metadata": {},
   "source": [
    "在开始训练之前，还需要对数据进行归一化处理。图片采用红、绿、蓝三通道的方式来表示颜色，每个通道的单个像素点都存储着一个0-255的像素值，所以图片的归一化处理十分简单，只需要将数据集中的每个值除以255即可，但需要注意的是结果值应为float类型，直接除以255会导致结果错误，在Python中除以255.即可将结果转化为float类型。\n",
    "现在让我们来归一化数据吧！\n"
   ]
  },
  {
   "cell_type": "code",
   "execution_count": 6,
   "metadata": {
    "collapsed": true
   },
   "outputs": [],
   "source": [
    "### START CODE HERE ### (≈ 2 lines of code)\n",
    "\n",
    "\n",
    "### END CODE HERE ###"
   ]
  },
  {
   "cell_type": "markdown",
   "metadata": {
    "collapsed": true
   },
   "source": [
    "为了方便后续的测试工作，添加了合并数据集和标签集的操作，使用numpy.hstack实现numpy数组的横向合并。\n"
   ]
  },
  {
   "cell_type": "code",
   "execution_count": 7,
   "metadata": {
    "collapsed": true
   },
   "outputs": [],
   "source": [
    "train_set = np.hstack((train_set_x, train_set_y.T))\n",
    "test_set = np.hstack((test_set_x, test_set_y.T))"
   ]
  },
  {
   "cell_type": "markdown",
   "metadata": {},
   "source": [
    "<font color='blue'>\n",
    "**经过上面的实验，大家应该记住:**\n",
    "\n",
    "对数据进行预处理的一般步骤是:\n",
    "    \n",
    "- 了解数据的维度和形状等信息，例如(m_train, m_test, num_px, ...)\n",
    "- 降低数据纬度，例如将数据维度(num_px, num_px, 3)转化为(num_px \\* num_px \\* 3, 1)\n",
    "- 数据归一化"
   ]
  },
  {
   "cell_type": "markdown",
   "metadata": {
    "collapsed": true
   },
   "source": [
    "至此我们就完成了数据预处理工作！在接下来的练习中我们将构造reader，用于读取数据。"
   ]
  },
  {
   "cell_type": "markdown",
   "metadata": {},
   "source": [
    "## 3 - 构造reader\n",
    "\n",
    "构造read_data()函数，来读取训练数据集train_set或者测试数据集test_set。它的具体实现是在read_data()函数内部构造一个reader()，使用yield关键字来让reader()成为一个Generator（生成器），注意，yield关键字的作用和使用方法类似return关键字，不同之处在于yield关键字可以构造生成器（Generator）。虽然我们可以直接创建一个包含所有数据的列表，但是由于内存限制，我们不可能创建一个无限大的或者巨大的列表，并且很多时候在创建了一个百万数量级别的列表之后，我们却只需要用到开头的几个或几十个数据，这样造成了极大的浪费，而生成器的工作方式是在每次循环时计算下一个值，不断推算出后续的元素，不会创建完整的数据集列表，从而节约了内存使用。\n",
    "\n",
    "** 练习：**现在让我们使用yield来构造一个reader()吧！"
   ]
  },
  {
   "cell_type": "code",
   "execution_count": 8,
   "metadata": {
    "collapsed": true
   },
   "outputs": [],
   "source": [
    "# 读取训练数据或测试数据\n",
    "def read_data(data_set):\n",
    "    \"\"\"\n",
    "        一个reader\n",
    "        Args:\n",
    "            data_set -- 要获取的数据集\n",
    "        Return:\n",
    "            reader -- 用于获取训练数据集及其标签的生成器generator\n",
    "    \"\"\"\n",
    "    def reader():\n",
    "        \"\"\"\n",
    "        一个reader\n",
    "        Args:\n",
    "        Return:\n",
    "            data[:-1], data[-1:] -- 使用yield返回生成器(generator)，\n",
    "                    data[:-1]表示前n-1个元素，也就是训练数据，data[-1:]表示最后一个元素，也就是对应的标签\n",
    "        \"\"\"\n",
    "        for data in data_set:\n",
    "            ### START CODE HERE ### (≈ 1 lines of code)\n",
    "            \n",
    "            ### END CODE HERE ###\n",
    "    return reader\n",
    "\n",
    "\n"
   ]
  },
  {
   "cell_type": "code",
   "execution_count": 9,
   "metadata": {},
   "outputs": [
    {
     "name": "stdout",
     "output_type": "stream",
     "text": [
      "test_array for read_data:\n",
      "([1, 1, 1, 1], [0])\n",
      "([2, 2, 2, 2], [1])\n",
      "([3, 3, 3, 3], [0])\n"
     ]
    }
   ],
   "source": [
    "test_array = [[1,1,1,1,0],\n",
    "                [2,2,2,2,1],\n",
    "                [3,3,3,3,0]]\n",
    "\n",
    "print(\"test_array for read_data:\")\n",
    "for value in read_data(test_array)():\n",
    "    print(value)"
   ]
  },
  {
   "cell_type": "markdown",
   "metadata": {},
   "source": [
    "**期望输出**: \n",
    "\n",
    "<table>\n",
    "  <tr>\n",
    "    <td>([1, 1, 1, 1], [0])</td>\n",
    "  </tr>\n",
    "  <tr>\n",
    "    <td>([2, 2, 2, 2], [1])</td> \n",
    "  </tr>\n",
    "    <td>([3, 3, 3, 3], [0])</td> \n",
    "  </tr>\n",
    "</table>"
   ]
  },
  {
   "cell_type": "markdown",
   "metadata": {},
   "source": [
    "## 4 - 训练过程\n",
    "\n",
    "完成了数据的预处理工作并构造了read_data()来读取数据，接下来将进入模型的训练过程，使用 PaddlePaddle 来定义构造可训练的 Logistic 回归模型，关键步骤如下：\n",
    "\n",
    "- 初始化\n",
    "\n",
    "- 配置网络结构和设置参数\n",
    "    - 配置网络结构\n",
    "    - 定义损失函数 cost\n",
    "    - 定义优化器 optimizer\n",
    "\n",
    "- 模型训练\n",
    "\n",
    "- 模型检验\n",
    "\n",
    "- 预测\n",
    "\n",
    "\n",
    "** （1）定义训练场所 **\n",
    "\n",
    "首先进行最基本的初始化操作，在 PaddlePaddle 中使用 place = fluid.CUDAPlace(#) 来进行初始化：\n",
    "\n",
    "- use_cuda = False 表示不使用gpu进行训练"
   ]
  },
  {
   "cell_type": "code",
   "execution_count": 10,
   "metadata": {
    "collapsed": true
   },
   "outputs": [],
   "source": [
    "# 初始化\n",
    "use_cuda = False\n",
    "place = fluid.CUDAPlace(0) if use_cuda else fluid.CPUPlace()"
   ]
  },
  {
   "cell_type": "markdown",
   "metadata": {},
   "source": [
    "** （2）配置网络结构和设置参数 **\n",
    "\n",
    "** 配置网络结构 **\n",
    "\n",
    "我们知道Logistic回归模型结构相当于一个只含一个神经元的神经网络，如下图所示，只包含输入数据以及输出层，不存在隐藏层，所以只需配置输入层(input)、输出层(predict)和标签层(label)即可。\n",
    "\n",
    "<img src=\"images/logistic.png\" width=\"200px\">\n",
    "\n",
    "** 练习：**接下来让我们使用PaddlePaddle提供的接口开始配置Logistic回归模型的简单网络结构吧，一共需要配置三层：\n",
    "\n",
    "** 输入层： **\n",
    "\n",
    "我们可以定义x = fluid.layers.data(name='x', shape=[DATA_DIM], dtype='float32')来表示生成一个数据输入层，名称为“x”，数据类型为data_dim维向量；\n",
    "\n",
    "在定义输入层之前，我们需要使用之前计算的num_px来获取数据维度data_dim，data_dim=num_px \\* num_px \\* 3\n",
    "\n",
    "** 输出层： **\n",
    "\n",
    "我们可以定义y_predict = fluid.layers.fc(input=x, size=1, act='sigmoid')表示生成一个全连接层，输入数据为x，神经元个数为1，激活函数为Sigmoid()；\n",
    "\n",
    "** 标签层 **\n",
    "\n",
    "我们可以定义y = fluid.layers.data(name='y', shape=[1], dtype='float32')表示生成一个数据层，名称为“y”，数据类型为1维向量。\n"
   ]
  },
  {
   "cell_type": "code",
   "execution_count": null,
   "metadata": {},
   "outputs": [],
   "source": [
    "# 输入层，fluid.layers.data表示数据层,name=’x’：名称为x,输出类型为tensor\n",
    "# shape=[DATA_DIM]:数据为DATA_DIM维向量\n",
    "# dtype='float32'：数据类型为float32\n",
    "\n",
    "### START CODE HERE ### (≈ 1 lines of code)\n",
    "x = None\n",
    "### END CODE HERE ###\n",
    "\n",
    "# 标签数据，fluid.layers.data表示数据层,name=’y’：名称为y,输出类型为tensor\n",
    "# shape=[1]:数据为1维向量\n",
    "\n",
    "### START CODE HERE ### (≈ 1 lines of code)\n",
    "y = None\n",
    "### START CODE HERE ### (≈ 1 lines of code)\n",
    "\n",
    "# 输出层，fluid.layers.fc表示全连接层，input=x: 该层输入数据为x\n",
    "# size=1：神经元个数，act=sigmoid：激活函数为sigmoid函数\n",
    "\n",
    "### START CODE HERE ### (≈ 1 lines of code)\n",
    "y_predict = None\n",
    "### END CODE HERE ###"
   ]
  },
  {
   "cell_type": "markdown",
   "metadata": {},
   "source": [
    "** 定义损失函数 **\n",
    "\n",
    "在配置网络结构之后，我们需要定义一个损失函数来计算梯度并优化参数，在这里我们可以使用PaddlePaddle提供的均方误差损失函数，定义loss = fluid.layers.square_error_cost(input=y_predict, label=y)，avg_loss = fluid.layers.mean(cost)使用y_predict与y(label)计算成本。"
   ]
  },
  {
   "cell_type": "code",
   "execution_count": null,
   "metadata": {},
   "outputs": [],
   "source": [
    "# 定义成本函数为均方差损失函数\n",
    "\n",
    "### START CODE HERE ### (≈ 2 lines of code)\n",
    "loss = None\n",
    "avg_loss = fluid.layers.mean(loss)\n",
    "### END CODE HERE ###"
   ]
  },
  {
   "cell_type": "markdown",
   "metadata": {},
   "source": [
    "**封装训练参数**\n",
    "\n",
    "将设计完成的网络参数写入 sigmoid_regression()函数和train_program() 函数，便于训练时调用"
   ]
  },
  {
   "cell_type": "code",
   "execution_count": null,
   "metadata": {},
   "outputs": [],
   "source": [
    "def sigmoid_regression():\n",
    "    x = fluid.layers.data(name='x', shape=[DATA_DIM], dtype='float32')\n",
    "    y_predict = fluid.layers.fc(input=x, size=1, act='sigmoid')\n",
    "    return y_predict"
   ]
  },
  {
   "cell_type": "code",
   "execution_count": 11,
   "metadata": {
    "collapsed": true
   },
   "outputs": [],
   "source": [
    "def train_program(x, y):\n",
    "    \n",
    "    #输入层与标签层作为输入传进函数，这里只需定义输出层与损失函数\n",
    "    ### START CODE HERE ### (≈ 3 lines of code) \n",
    "    y_predict = ####\n",
    "    y = ####\n",
    "    cost = ####\n",
    "    avg_cost = ####\n",
    "    ### END CODE HERE ### \n",
    "\n",
    "\n",
    "    return [avg_cost, y_predict]"
   ]
  },
  {
   "cell_type": "markdown",
   "metadata": {},
   "source": [
    "** 优化方法 **\n",
    "\n",
    "损失函数定义确定后，需要定义参数优化方法。为了改善模型的训练速度以及效果，学术界先后提出了很多优化算法，包括： Momentum、RMSProp、Adam 等，已经被封装在fluid内部，读者可直接调用。本次可以用sgd_optimizer = fluid.optimizer.Adam(learning_rate= )使用Adam的方法优化，其中learning_rate可自己尝试修改。"
   ]
  },
  {
   "cell_type": "code",
   "execution_count": 12,
   "metadata": {
    "collapsed": true
   },
   "outputs": [],
   "source": [
    "def optimizer_program():\n",
    "    return fluid.optimizer.Adam(learning_rate=0.0001)"
   ]
  },
  {
   "cell_type": "markdown",
   "metadata": {},
   "source": [
    "** 其它配置 **\n",
    "\n",
    "feed_order=['x', 'y'] 是数据层名称和数组索引的映射，用于定义数据的读取顺序。  \n",
    "avg_costs=[] 用于记录损失函数的变化过程。"
   ]
  },
  {
   "cell_type": "code",
   "execution_count": null,
   "metadata": {
    "collapsed": true
   },
   "outputs": [],
   "source": [
    "avg_costs=[]\n",
    "feed_order=['x','y']"
   ]
  },
  {
   "cell_type": "markdown",
   "metadata": {},
   "source": [
    "** 获取训练数据 **\n",
    "\n",
    "关于参数的解释如下：\n",
    "\n",
    "- paddle.reader.shuffle(read_data(train_set), buf_size=5000)表示trainer从read_data(train_set)这个reader中读取了buf_size=5000大小的数据并打乱顺序\n",
    "- paddle.batch(reader(), batch_size=BATCH_SIZE)表示从打乱的数据中再取出BATCH_SIZE=32大小的数据进行一次迭代训练"
   ]
  },
  {
   "cell_type": "code",
   "execution_count": null,
   "metadata": {},
   "outputs": [],
   "source": [
    "BATCH_SIZE=32\n",
    "\n",
    "# 设置训练reader\n",
    "train_reader = paddle.batch(\n",
    "    paddle.reader.shuffle(\n",
    "        read_data(train_set), buf_size=5000),\n",
    "    batch_size=BATCH_SIZE)\n",
    "\n",
    "#设置测试 reader\n",
    "test_reader = paddle.batch(\n",
    "    paddle.reader.shuffle(\n",
    "        read_data(test_set), buf_size=5000),\n",
    "    batch_size=BATCH_SIZE)"
   ]
  },
  {
   "cell_type": "markdown",
   "metadata": {},
   "source": [
    "** 创建训练器 **\n",
    "\n",
    "训练器创建训练器时需要提供3个主要信息：\n",
    "1. 一个配置好的网络拓扑结构\n",
    "2. 训练的硬件场所\n",
    "3. 具体的优化方法"
   ]
  },
  {
   "cell_type": "code",
   "execution_count": null,
   "metadata": {},
   "outputs": [],
   "source": [
    "trainer = fluid.Trainer(\n",
    "    train_func= train_program,\n",
    "    place= place,\n",
    "    optimizer_func= optimizer_program)"
   ]
  },
  {
   "cell_type": "markdown",
   "metadata": {},
   "source": [
    "同学们可以打印出自己设置的网络参数，以查看网络结构是否符合期待。"
   ]
  },
  {
   "cell_type": "code",
   "execution_count": null,
   "metadata": {},
   "outputs": [],
   "source": [
    "#print(fluid.default_main_program().to_string(True))"
   ]
  },
  {
   "cell_type": "markdown",
   "metadata": {},
   "source": [
    "** （3）训练模型 **\n",
    "\n",
    "上述内容进行了模型初始化、网络结构的配置并创建了训练函数、硬件位置、优化方法，接下来利用上述配置进行模型训练。\n",
    "\n",
    "\n",
    "利用 train（） 即可开始真正的模型训练，我们可以设置参数如下：\n",
    "\n",
    "- a. 成本函数（avg_cost）\n",
    "\n",
    "首先，我们调用定义好的train_program()用于计算avg_cost。\n",
    "\n",
    "- b. 优化器（optimizer）\n",
    "\n",
    "在获取avg_cost之后，我们获取优化器oprimizer。通过minimize(avg_cost)来将最小化avg_cost作为梯度更新标准。\n",
    "\n",
    "\n",
    "- c. 定义执行器(exe)\n",
    "\n",
    "根据是否使用gpu来定义运算场所为fluid.CUPAPlace或者fluid.CPUPlace()，在本实验中use_cuda默认为False，所以选择fluid.CPUPlace()作为运算场所。\n",
    "\n",
    "通过fluid.Executor(place)来设置执行器。\n",
    "\n",
    "- d. 提供数据(feeder)\n",
    "\n",
    "定义feeder来为接下来的训练提供数据，通过fluid.DataFeeder(place=place, feed_list=[x, y])来设置feeder的目标训练场所(place)以及提供的数据列表(feed_list)。\n",
    "\n",
    "- e. 执行训练(exe.run)\n",
    "\n",
    "经过以上步骤的设置，我们定义了网络结构、成本函数、优化器、数据、运算场所和执行器，接下来即可开始模型的训练过程。我们设置PASS_NUM=2000让训练程序循环完成2000次迭代训练，在训练过程中间隔输出Average cost，通过fluid.io.save_inference_model()保存模型，用于之后的预测过程(inference)。\n"
   ]
  },
  {
   "cell_type": "code",
   "execution_count": 17,
   "metadata": {
    "collapsed": true
   },
   "outputs": [],
   "source": [
    "# 使用paddle.v2.plot 绘制训练过程中损失函数的变化情况\n",
    "from paddle.v2.plot import Ploter\n",
    "train_title = \"Train cost\"\n",
    "test_title = \"Test cost\"\n",
    "cost_ploter = Ploter(train_title,test_title)\n",
    "\n",
    "# 定义训练过程\n",
    "def train(save_dirname, use_cuda=False, is_local=True):\n",
    "    \n",
    "    # 读取损失函数\n",
    "    avg_cost, y_predict = train_program(x, y)\n",
    "    \n",
    "    # 定义优化器\n",
    "    optimizer = optimizer_program()\n",
    "    optimizer.minimize(avg_cost)\n",
    "    \n",
    "\n",
    "    \n",
    "    # 提供数据\n",
    "    feeder = fluid.DataFeeder(place=place, feed_list=[x, y])\n",
    "    \n",
    "    # 初始化执行器\n",
    "    exe=fluid.Executor(place)\n",
    "    exe.run(fluid.default_startup_program())\n",
    "    \n",
    "    # 开始训练\n",
    "    PASS_NUM = 2000\n",
    "    \n",
    "    for pass_id in range(PASS_NUM):\n",
    "        for batch_id, data in enumerate(train_reader()):\n",
    "            avg_cost_value = exe.run(fluid.default_main_program(),\n",
    "                                    feed=feeder.feed(data),\n",
    "                                    fetch_list=[avg_cost])\n",
    "                \n",
    "            test_metrios = trainer.test(\n",
    "            reader=test_reader,feed_order=feed_order)\n",
    "            \n",
    "            \n",
    "            if pass_id % 100 == 0 and batch_id == 0:\n",
    "                avg_costs.append(avg_cost_value[0])\n",
    "                \n",
    "                # 以图像形式打印训练集损失函数\n",
    "                cost_ploter.append(train_title, pass_id, avg_cost_value[0])\n",
    "                cost_ploter.plot()\n",
    "            \n",
    "                \n",
    "                # 以图像形式打印测试集损失函数\n",
    "                cost_ploter.append(test_title, pass_id, test_metrios[0])\n",
    "                cost_ploter.plot()\n",
    "                \n",
    "                if save_dirname is not None:    \n",
    "                    fluid.io.save_inference_model(save_dirname, ['x'], [y_predict], exe)\n"
   ]
  },
  {
   "cell_type": "markdown",
   "metadata": {},
   "source": [
    "** 开始训练 **\n",
    "\n",
    "我们现在可以通过调用train()来开始训练了，通过观察损失函数图像看看自己的模型是不是完美了呢！\n",
    "\n",
    "尝试调整 train()中的PASS_NUM 观察损失函数的变化吧（可以先尝试2000）\n",
    "\n",
    "定义模型保存路径 save_dirname，通过 train(save_dirname) 来进行模型训练。\n",
    "\n",
    "通过输出结果可以看出，cost 逐渐减小到了一个可接受的范围内，由于本次 cost 值域很小，因此看起来仍存在波动，但此时的模型已经可以作为不错的分类模型了。"
   ]
  },
  {
   "cell_type": "code",
   "execution_count": 18,
   "metadata": {
    "scrolled": false
   },
   "outputs": [
    {
     "data": {
      "image/png": "[encoded data removed]",
      "text/plain": [
       "<matplotlib.figure.Figure at 0x7f58b717ca10>"
      ]
     },
     "metadata": {},
     "output_type": "display_data"
    },
    {
     "data": {
      "text/plain": [
       "<matplotlib.figure.Figure at 0x7f58b717ca10>"
      ]
     },
     "metadata": {},
     "output_type": "display_data"
    }
   ],
   "source": [
    "save_dirname=\"recognize_cat_inference.model\"\n",
    "train(save_dirname)"
   ]
  },
  {
   "cell_type": "markdown",
   "metadata": {},
   "source": [
    "# 5-预测\n",
    "\n",
    "首先我们定义calc_accuracy()函数，将结果转化为二分类结果并计算预测正确的结果数量，用以获取训练模型的预测准确度。\n",
    "\n",
    "**注意**: 这里使用一个prediction数组参数用于存储预测结果，方便后续查看。"
   ]
  },
  {
   "cell_type": "code",
   "execution_count": 20,
   "metadata": {
    "collapsed": true
   },
   "outputs": [],
   "source": [
    "prediction = []\n",
    "def calc_accuracy(result, label):\n",
    "    count = 0\n",
    "    for i in range(len(result)):\n",
    "        if result[i] < 0:\n",
    "            prediction.append(0)\n",
    "            if label[i] == 0:\n",
    "                count += 1\n",
    "        elif result[i] >= 0:\n",
    "            prediction.append(1)\n",
    "            if label[i] == 1:\n",
    "                count += 1\n",
    "    return count / float(len(label))"
   ]
  },
  {
   "cell_type": "markdown",
   "metadata": {},
   "source": [
    "接下来进行模型的预测过程：\n",
    "\n",
    "#### a. 定义运算场所(place)和执行器(exe)\n",
    "\n",
    "首先，定义预测过程的计算场所和执行器\n",
    "\n",
    "#### b. scope\n",
    "\n",
    "定义一个新的scope(关于scope的详细描述请参考[Design of Scope In PaddlePaddle](http://www.paddlepaddle.org/docs/0.14.0/documentation/fluid/zh/design/concepts/scope.html?highlight=scope))，并使用fluid.scope_guard()切换到新的scope中。\n",
    "\n",
    "#### c. 载入模型\n",
    "\n",
    "使用fluid.io.load_inference_model()来载入我们先前保存的模型。在载入模型时可获取三个变量：\n",
    "\n",
    "- inference_program: 预测程序(inference program desc)\n",
    "\n",
    "- feed_target_names: 在预测时提供的数据名，在本例中为x, y\n",
    "\n",
    "- fetch_targets: 希望获取的预测结果\n",
    "\n",
    "#### d. 获取数据\n",
    "\n",
    "定义test_reader获取测试数据\n",
    "\n",
    "#### e. 执行预测\n",
    "\n",
    "通过exe.run()来执行预测并获取结果，传入在c.载入模型步骤中获取的预测程序inference_program，设置提供数据feed为x，并设置fetch_list来获取测试结果。\n",
    "\n",
    "#### f. 计算准确率\n",
    "\n",
    "通过刚刚定义的calc_accuracy()函数来计算并返回预测准确率、保存预测结果。\n",
    "\n",
    "**注意**: 大家可以通过修改test_reader中的TEST_SET为TRAINING_SET来获取训练数据集上的预测准确率，了解模型对训练数据集的拟合程度。\n",
    "\n",
    "#### g. 模型检验\n",
    "\n",
    "获取测试数据图片样例并与预测结果进行对比，检验模型效果。"
   ]
  },
  {
   "cell_type": "code",
   "execution_count": 23,
   "metadata": {
    "collapsed": true
   },
   "outputs": [],
   "source": [
    "def infer(use_cuda=False, save_dirname=None):\n",
    "    if save_dirname is None:\n",
    "        return\n",
    "    place = fluid.CUDAPlace(0) if use_cuda else fluid.CPUPlace()\n",
    "    exe = fluid.Executor(place)\n",
    "    inference_scope = fluid.core.Scope()\n",
    "    with fluid.scope_guard(inference_scope):\n",
    "        [inference_program, feed_target_names,\n",
    "        fetch_targets] = fluid.io.load_inference_model(save_dirname, exe)\n",
    "        \n",
    "        test_reader = paddle.batch(\n",
    "            read_data(test_set), batch_size=50\n",
    "        )\n",
    "\n",
    "        test_data = test_reader().next()\n",
    "        test_x = np.array([data[0] for data in test_data]).astype('float32')\n",
    "        test_label = np.array([data[1] for data in test_data]).astype('float32')\n",
    "\n",
    "        assert feed_target_names[0] == 'x'\n",
    "        results = exe.run(inference_program,\n",
    "                        feed={feed_target_names[0]: np.array(test_x)},\n",
    "                        fetch_list=fetch_targets)\n",
    "        print(\"accuracy: {}\".format(calc_accuracy(results[0], test_label)))\n",
    "        index = 14\n",
    "        plt.imshow((np.array(test_x[index])).reshape((64, 64, 3)))\n",
    "        print (\"y = \" + str(test_label[index]) + \", you predicted that it is a \\\"\"\n",
    "               + classes[prediction[index]].decode(\"utf-8\") +  \"\\\" picture.\")"
   ]
  },
  {
   "cell_type": "code",
   "execution_count": 24,
   "metadata": {},
   "outputs": [
    {
     "name": "stdout",
     "output_type": "stream",
     "text": [
      "accuracy: 0.7\n",
      "y = [0.], you predicted that it is a \"non-cat\" picture.\n"
     ]
    },
    {
     "data": {
      "image/png": "[encoded data removed]",
      "text/plain": [
       "<matplotlib.figure.Figure at 0x7f58a9921f10>"
      ]
     },
     "metadata": {},
     "output_type": "display_data"
    }
   ],
   "source": [
    "infer(False, save_dirname)"
   ]
  },
  {
   "cell_type": "markdown",
   "metadata": {},
   "source": [
    "可以看到预测结果输出了模型的预测准确率，并针对一张图片样例进行了预测，图中是一个交通指示牌，我们的模型也成功预测出该图片为\"non-cat\"，大家可以通过修改index来对不同图片样例进行预测。"
   ]
  },
  {
   "cell_type": "markdown",
   "metadata": {},
   "source": [
    "# 6 - 总结\n",
    "\n",
    "通过这个练习我们应该记住：\n",
    "\n",
    "1. 单层神经网络基础是逻辑回归，配置网络时需要耐心，防止出错！\n",
    "\n",
    "2. fluid训练模型的基本步骤: \n",
    "\n",
    "    - 配置网络结构：\n",
    "    \n",
    "    - 定义成本函数avg_cost\n",
    "    \n",
    "    - 定义优化器optimizer\n",
    "    \n",
    "    - 获取训练数据\n",
    "    \n",
    "    - 定义运算场所(place)和执行器(exe)\n",
    "    \n",
    "    - 提供数据(feeder)\n",
    "\n",
    "    - 执行训练(exe.run)\n",
    "    \n",
    "3. fluid模型预测的基本步骤:\n",
    "\n",
    "    - 定义运算场所(place)和执行器(exe)\n",
    "\n",
    "    - 切换inference_scope\n",
    "    \n",
    "    - 载入模型\n",
    "\n",
    "    - 获取测试数据\n",
    "    \n",
    "    - 执行预测\n",
    "\n",
    "    - 计算准确率\n",
    "\n",
    "    - 模型检验\n",
    "\n",
    "3. 练习中参数的初始化策略和学习率调整会对结果产生较大影响，可以尝试改变二者观察结果。\n",
    "\n",
    "\n",
    "\n",
    "至此Logistic回归模型的训练工作完成，我们发现在使用PaddlePaddle进行模型配置和训练的过程中不用考虑参数的初始化、成本函数、激活函数、梯度下降、参数更新和预测等具体细节，只需要简单地配置网络结构和trainer即可，并且PaddlePaddle提供了许多接口来改变学习率、成本函数、批次大小等许多参数来改变模型的学习效果，使用起来更加灵活，方便测试，在之后的练习中，我们会对PaddlePaddle更加熟悉。\n",
    "\n"
   ]
  },
  {
   "cell_type": "markdown",
   "metadata": {
    "collapsed": true
   },
   "source": []
  }
 ],
 "metadata": {
  "kernelspec": {
   "display_name": "Python 3",
   "language": "python",
   "name": "python3"
  },
  "language_info": {
   "codemirror_mode": {
    "name": "ipython",
    "version": 3
   },
   "file_extension": ".py",
   "mimetype": "text/x-python",
   "name": "python",
   "nbconvert_exporter": "python",
   "pygments_lexer": "ipython3",
   "version": "3.6.5"
  }
 },
 "nbformat": 4,
 "nbformat_minor": 2
}
